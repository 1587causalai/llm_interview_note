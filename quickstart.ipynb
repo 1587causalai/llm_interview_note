{
 "cells": [
  {
   "cell_type": "markdown",
   "metadata": {},
   "source": [
    "# Quick Start\n",
    "\n",
    "\n",
    "leet code 编程考核"
   ]
  },
  {
   "cell_type": "markdown",
   "metadata": {},
   "source": [
    "\n",
    "## 基础数据结构\n",
    "\n",
    "来一道数组的有关的题目吧\n",
    "\n",
    "\n",
    "1. 两数之和\n",
    "\n",
    "给定一个整数数组 nums 和一个目标值 target，请你在该数组中找出和为目标值的那两个整数，并返回他们的数组下标。"
   ]
  },
  {
   "cell_type": "code",
   "execution_count": 3,
   "metadata": {},
   "outputs": [
    {
     "name": "stdout",
     "output_type": "stream",
     "text": [
      "[0, 1]\n"
     ]
    }
   ],
   "source": [
    "def twoSum(nums, target):\n",
    "    out = [None, None]\n",
    "\n",
    "    for i in range(len(nums)):\n",
    "        for j in range(i+1, len(nums)):\n",
    "            if nums[i] + nums[j] == target:\n",
    "                out = [i, j]\n",
    "\n",
    "    return out\n",
    "\n",
    "nums = [1, 3, 5, 7]\n",
    "target = 9\n",
    "\n",
    "print('answer:', twoSum(nums=nums, target=target))"
   ]
  },
  {
   "cell_type": "code",
   "execution_count": 1,
   "metadata": {},
   "outputs": [
    {
     "name": "stdout",
     "output_type": "stream",
     "text": [
      "3\n",
      "2\n",
      "1\n"
     ]
    }
   ],
   "source": [
    "# 给你单链表的头节点 head ，请你反转链表，并返回反转后的链表。\n",
    "\n",
    "class ListNode:\n",
    "    def __init__(self, x, next=None):\n",
    "        self.val = x\n",
    "        self.next = next\n",
    "\n",
    "\n",
    "def reverseList(head):\n",
    "    \"\"\"\n",
    "    :type head: ListNode\n",
    "    :rtype: ListNode\n",
    "    \"\"\"\n",
    "    prev = None\n",
    "    curr = head\n",
    "    while curr:\n",
    "        nextTemp = curr.next\n",
    "        curr.next = prev\n",
    "        prev = curr\n",
    "        curr = nextTemp\n",
    "    return prev\n",
    "\n",
    "\n",
    "# test for reverseList\n",
    "node1 = ListNode(1)\n",
    "node2 = ListNode(2)\n",
    "node3 = ListNode(3)\n",
    "node1.next = node2\n",
    "node2.next = node3\n",
    "head = node1\n",
    "\n",
    "new_head = reverseList(head)\n",
    "while new_head:\n",
    "    print(new_head.val)\n",
    "    new_head = new_head.next\n",
    "\n",
    "# 给你单链表的头节点 head ，请你删除链表的倒数第 n 个结点，并且返回链表的头节点。"
   ]
  },
  {
   "cell_type": "code",
   "execution_count": 6,
   "metadata": {},
   "outputs": [
    {
     "name": "stdout",
     "output_type": "stream",
     "text": [
      "False\n"
     ]
    }
   ],
   "source": [
    "# 给定一个包含 '('，')'，'{'，'}'，'['，']' 的字符串 s ，判断字符串是否正确的括号匹配。\n",
    "\n",
    "def isValid(s):\n",
    "    \"\"\"\n",
    "    :type s: str\n",
    "    :rtype: bool\n",
    "    \"\"\"\n",
    "    stack = []\n",
    "    for char in s:\n",
    "        if char == '(' or char == '[' or char == '{':\n",
    "            stack.append(char)\n",
    "        else:\n",
    "            if not stack:\n",
    "                return False\n",
    "            if char == ')' and stack[-1] == '(':\n",
    "                stack.pop()\n",
    "            elif char == ']' and stack[-1] == '[':\n",
    "                stack.pop()\n",
    "            elif char == '}' and stack[-1] == '{':\n",
    "                stack.pop()\n",
    "            else:\n",
    "                return False\n",
    "    return not stack\n",
    "\n",
    "# test for isValid\n",
    "s = \"([][])}\"\n",
    "print(isValid(s)) # False"
   ]
  },
  {
   "cell_type": "code",
   "execution_count": 7,
   "metadata": {},
   "outputs": [
    {
     "name": "stdout",
     "output_type": "stream",
     "text": [
      "['A', 'B', 'C']\n"
     ]
    }
   ],
   "source": [
    "# 使用 Queue 类来模拟打印机任务队列\n",
    "# pass "
   ]
  },
  {
   "cell_type": "code",
   "execution_count": 1,
   "metadata": {},
   "outputs": [
    {
     "name": "stdout",
     "output_type": "stream",
     "text": [
      "[0, 1]\n"
     ]
    }
   ],
   "source": [
    "# 哈希表：两数之和\n",
    "def twoSum(nums, target):\n",
    "    \"\"\"\n",
    "    :type nums: List[int]\n",
    "    :type target: int\n",
    "    :rtype: List[int]\n",
    "    \"\"\"\n",
    "    hashmap = {}\n",
    "    for i, num in enumerate(nums):\n",
    "        if hashmap.get(target - num) is not None:\n",
    "            return [hashmap.get(target - num), i]\n",
    "        hashmap[num] = i\n",
    "\n",
    "# test for twoSum\n",
    "nums = [2, 7, 11, 15]\n",
    "target = 9\n",
    "print(twoSum(nums, target)) # [0, 1]\n",
    "\n",
    "\n",
    "# 哈希表和数组来实现两数之和的核心区别和联系是什么？\n",
    "# 比较：\n",
    "# 1. 时间复杂度：\n",
    "#    - 数组方法：O(n^2)，其中 n 是数组长度\n",
    "#    - 哈希表方法：O(n)\n",
    "# \n",
    "# 2. 空间复杂度：\n",
    "#    - 数组方法：O(1)，只使用常数额外空间\n",
    "#    - 哈希表方法：O(n)，最坏情况下需要存储 n 个键值对\n",
    "# \n",
    "# 3. 实现复杂度：\n",
    "#    - 数组方法：实现较简单，直接使用两层循环\n",
    "#    - 哈希表方法：需要额外的数据结构，但逻辑相对简单"
   ]
  },
  {
   "cell_type": "code",
   "execution_count": 2,
   "metadata": {},
   "outputs": [
    {
     "name": "stdout",
     "output_type": "stream",
     "text": [
      "3\n"
     ]
    }
   ],
   "source": [
    "# 给定一个二叉树，找出其最大深度。\n",
    "class TreeNode:\n",
    "    def __init__(self, x):\n",
    "        self.val = x\n",
    "        self.left = None\n",
    "        self.right = None\n",
    "\n",
    "def maxDepth(root):\n",
    "    \"\"\"\n",
    "    :type root: TreeNode\n",
    "    :rtype: int\n",
    "    \"\"\"\n",
    "    if not root:\n",
    "        return 0\n",
    "    return max(maxDepth(root.left), maxDepth(root.right)) + 1\n",
    "\n",
    "# test for maxDepth\n",
    "root = TreeNode(3)\n",
    "node9 = TreeNode(9)\n",
    "node20 = TreeNode(20)\n",
    "node15 = TreeNode(15)\n",
    "node7 = TreeNode(7)\n",
    "root.left = node9\n",
    "root.right = node20\n",
    "node20.left = node15\n",
    "node20.right = node7\n",
    "\n",
    "print(maxDepth(root)) # 3"
   ]
  },
  {
   "cell_type": "markdown",
   "metadata": {},
   "source": [
    "## 常见算法"
   ]
  },
  {
   "cell_type": "code",
   "execution_count": 4,
   "metadata": {},
   "outputs": [
    {
     "name": "stdout",
     "output_type": "stream",
     "text": [
      "[1, 1, 2, 3, 6, 8, 10]\n"
     ]
    }
   ],
   "source": [
    "# 实现快速排序算法\n",
    "\n",
    "\n",
    "def quickSort(arr):\n",
    "    if len(arr) <= 1:\n",
    "        return arr\n",
    "    pivot = arr[len(arr) // 2]\n",
    "    left = [x for x in arr if x < pivot]\n",
    "    middle = [x for x in arr if x == pivot]\n",
    "    right = [x for x in arr if x > pivot]\n",
    "    return quickSort(left) + middle + quickSort(right)\n",
    "\n",
    "\n",
    "# test for quickSort\n",
    "arr = [3, 6, 8, 10, 1, 2, 1]\n",
    "print(quickSort(arr)) # [1, 1, 2, 3, 6, 8, 10]\n",
    "\n",
    "\n",
    "# 归并排序\n",
    "\n",
    "def mergeSort(arr):\n",
    "    if len(arr) <= 1:\n",
    "        return arr\n",
    "    mid = len(arr) // 2\n",
    "    left = mergeSort(arr[:mid])\n",
    "    right = mergeSort(arr[mid:])\n",
    "    return merge(left, right)\n",
    "\n",
    "def merge(left, right):\n",
    "    res = []\n",
    "    i = j = 0\n",
    "    while i < len(left) and j < len(right):\n",
    "        if left[i] < right[j]:\n",
    "            res.append(left[i])\n",
    "            i += 1\n",
    "        else:\n",
    "            res.append(right[j])\n",
    "            j += 1\n",
    "    res += left[i:]\n",
    "    res += right\n",
    "\n",
    "    return res\n",
    "\n",
    "# test for mergeSort\n",
    "arr = [3, 6, 8, 10, 1, 2, 1]\n",
    "\n",
    "\"\"\"\n",
    "算法比较：\n",
    "\n",
    "1. 时间复杂度：\n",
    "   - 快速排序：平均 O(n log n)，最坏 O(n^2)\n",
    "   - 归并排序：稳定 O(n log n)\n",
    "\n",
    "2. 空间复杂度：\n",
    "   - 快速排序：平均 O(log n)，最坏 O(n)\n",
    "   - 归并排序：O(n)\n",
    "\n",
    "3. 稳定性：\n",
    "   - 快速排序：不稳定\n",
    "   - 归并排序：稳定\n",
    "\n",
    "4. 原地排序：\n",
    "   - 快速排序：可以实现原地排序\n",
    "   - 归并排序：通常需要额外空间\n",
    "\n",
    "5. 分区策略：\n",
    "   - 快速排序：选择pivot，将数组分为小于、等于和大于pivot的三部分\n",
    "   - 归并排序：将数组对半分，然后合并有序子数组\n",
    "\n",
    "6. 适用场景：\n",
    "   - 快速排序：大型数据集，内存受限情况\n",
    "   - 归并排序：稳定性要求高，外部排序\n",
    "\n",
    "注意：这里的快速排序实现使用了额外空间，不是原地排序的版本。\n",
    "在实际应用中，可能会选择更优化的实现方式。\n",
    "\"\"\"\n",
    "\n",
    "\n"
   ]
  },
  {
   "cell_type": "code",
   "execution_count": 6,
   "metadata": {},
   "outputs": [
    {
     "name": "stdout",
     "output_type": "stream",
     "text": [
      "1\n"
     ]
    }
   ],
   "source": [
    "# 二分查找\n",
    "def binarySearch(arr, target):\n",
    "    left, right = 0, len(arr) - 1\n",
    "    while left <= right:\n",
    "        mid = left + (right - left) // 2\n",
    "        if arr[mid] == target:\n",
    "            return mid\n",
    "        elif arr[mid] < target:\n",
    "            left = mid + 1\n",
    "        else:\n",
    "            right = mid - 1\n",
    "    return -1\n",
    "\n",
    "# test for binarySearch\n",
    "arr = [1, 3, 5, 7, 9]\n",
    "target = 3\n",
    "print(binarySearch(arr, target)) # 1\n"
   ]
  },
  {
   "cell_type": "code",
   "execution_count": 14,
   "metadata": {},
   "outputs": [
    {
     "name": "stdout",
     "output_type": "stream",
     "text": [
      "0\n",
      "1\n",
      "2\n",
      "3\n",
      "2\n",
      "Deep First Search {0, 1, 2, 3}\n",
      "Graph with cycle: True\n",
      "Graph without cycle: False\n"
     ]
    }
   ],
   "source": [
    "# 深度优先搜索（DFS): 找到图中的所有路径，检测图中是否存在环。\n",
    "\n",
    "def dfs(graph, start, visited=None):\n",
    "    \"\"\"\n",
    "    Perform depth-first search (DFS) on a graph. 队列vs栈： 相比之下，如果我们使用栈（后进先出，LIFO）来代替队列，我们就会得到深度优先搜索（DFS）的行为.\n",
    "\n",
    "    Parameters:\n",
    "    - graph (dict): The graph represented as an adjacency list.\n",
    "    - start (int): The starting node for the DFS.\n",
    "    - visited (set): A set to keep track of visited nodes. (default: None)\n",
    "\n",
    "    Returns:\n",
    "    - visited (set): A set containing all visited nodes during the DFS.\n",
    "    \"\"\"\n",
    "    if visited is None:\n",
    "        visited = set()\n",
    "    visited.add(start) # 将当前节点标记为已访问，防止重复访问。\n",
    "    print(start)\n",
    "    for next_node in graph[start] - visited: # 深度优先搜索(DFS)算法的核心逻辑是尽可能深地探索图的分支，然后回溯。Instead, BFS 使用队列来管理待访问的节点。\n",
    "\n",
    "        dfs(graph, next_node, visited)\n",
    "    return visited\n",
    "\n",
    "# test for dfs\n",
    "graph = {\n",
    "    0: {1, 2},\n",
    "    1: {2},\n",
    "    2: {3},\n",
    "    3: {1, 2}\n",
    "}   \n",
    "\n",
    "\n",
    "print('Deep First Search', dfs(graph, 0))\n",
    "# 这里面的深度优先算法的核心逻辑是什么？在这个代码中如何体现？如果是广度优先那个代码要做什么样的更改？\n",
    "\n",
    "\n",
    "\n",
    "def has_cycle(graph):\n",
    "    def dfs_cycle(node, visited, recursion_stack):\n",
    "        visited.add(node)\n",
    "        recursion_stack.add(node)\n",
    "        \n",
    "        for neighbor in graph.get(node, []):\n",
    "            if neighbor not in visited:\n",
    "                if dfs_cycle(neighbor, visited, recursion_stack):\n",
    "                    return True\n",
    "            elif neighbor in recursion_stack:\n",
    "                return True\n",
    "        \n",
    "        recursion_stack.remove(node)\n",
    "        return False\n",
    "\n",
    "    visited = set()\n",
    "    recursion_stack = set()\n",
    "    \n",
    "    for node in graph:\n",
    "        if node not in visited:\n",
    "            if dfs_cycle(node, visited, recursion_stack):\n",
    "                return True\n",
    "    \n",
    "    return False\n",
    "\n",
    "# 测试代码\n",
    "graph_with_cycle = {\n",
    "    0: [1, 2],\n",
    "    1: [2],\n",
    "    2: [3],\n",
    "    3: [1]\n",
    "}\n",
    "\n",
    "graph_without_cycle = {\n",
    "    0: [1, 2],\n",
    "    1: [2],\n",
    "    2: [3],\n",
    "    3: []\n",
    "}\n",
    "\n",
    "print(\"Graph with cycle:\", has_cycle(graph_with_cycle))\n",
    "print(\"Graph without cycle:\", has_cycle(graph_without_cycle))\n",
    "    "
   ]
  },
  {
   "cell_type": "code",
   "execution_count": 11,
   "metadata": {},
   "outputs": [
    {
     "data": {
      "text/plain": [
       "{2}"
      ]
     },
     "execution_count": 11,
     "metadata": {},
     "output_type": "execute_result"
    }
   ],
   "source": [
    "{1, 2} - {1}"
   ]
  },
  {
   "cell_type": "markdown",
   "metadata": {},
   "source": [
    "## 常见编程问题\n"
   ]
  },
  {
   "cell_type": "code",
   "execution_count": 15,
   "metadata": {},
   "outputs": [
    {
     "name": "stdout",
     "output_type": "stream",
     "text": [
      "bab\n"
     ]
    }
   ],
   "source": [
    "# 动态规划,给你一个字符串 s，找到 s 中最长的回文子串。\n",
    "\n",
    "def longestPalindrome(s):\n",
    "    n = len(s)\n",
    "    dp = [[False] * n for _ in range(n)] # dp[i][j] 是一个布尔值，表示字符串 s 从索引 i 到索引 j 的子串（包括 i 和 j）是否是回文串\n",
    "    ans = \"\"\n",
    "    for l in range(n):\n",
    "        for i in range(n):\n",
    "            j = i + l\n",
    "            if j >= n:\n",
    "                break\n",
    "            if l == 0:\n",
    "                dp[i][j] = True\n",
    "            elif l == 1:\n",
    "                dp[i][j] = (s[i] == s[j])\n",
    "            else:\n",
    "                dp[i][j] = (s[i] == s[j] and dp[i + 1][j - 1])\n",
    "            if dp[i][j] and l + 1 > len(ans):\n",
    "                ans = s[i:j + 1]\n",
    "\n",
    "    return ans\n",
    "\n",
    "# test for longestPalindrome\n",
    "s = \"babad\"\n",
    "print(longestPalindrome(s)) # \"bab\" or \"aba\"\n",
    "\n",
    "    \n"
   ]
  },
  {
   "cell_type": "markdown",
   "metadata": {},
   "source": [
    "## 蚂蚁代码面试题"
   ]
  },
  {
   "cell_type": "code",
   "execution_count": null,
   "metadata": {},
   "outputs": [],
   "source": [
    "# 给定一个非空字符串和一个字典判断字符串能否被字典中的词分词。\n",
    "def wordBreak(s, wordDict):\n",
    "    n = len(s)\n",
    "    dp = [False] * (n + 1)\n",
    "    dp[0] = True\n",
    "    for i in range(1, n + 1):\n",
    "        for j in range(i):\n",
    "            if dp[j] and s[j:i] in wordDict:\n",
    "                dp[i] = True\n",
    "                break\n",
    "    return dp[n]\n",
    "\n",
    "# 要合并所有重叠的区间。\n",
    "def merge(intervals):\n",
    "    intervals.sort(key=lambda x: x[0])\n",
    "    merged = []\n",
    "    for interval in intervals:\n",
    "        if not merged or merged[-1][1] < interval[0]:\n",
    "            merged.append(interval)\n",
    "        else:\n",
    "            merged[-1][1] = max(merged[-1][1], interval[1])\n",
    "    return merged"
   ]
  },
  {
   "cell_type": "markdown",
   "metadata": {},
   "source": [
    "## 小米面试题"
   ]
  },
  {
   "cell_type": "code",
   "execution_count": 24,
   "metadata": {
    "ExecuteTime": {
     "end_time": "2024-09-17T00:07:16.379198Z",
     "start_time": "2024-09-17T00:07:16.374405Z"
    }
   },
   "outputs": [],
   "source": [
    "# 就是二叉树的层次遍历\n",
    "def levelOrder(root):\n",
    "    if not root:\n",
    "        return []\n",
    "    res = []\n",
    "    queue = [root]\n",
    "    while queue:\n",
    "        level = []\n",
    "        for _ in range(len(queue)):\n",
    "            node = queue.pop(0)\n",
    "            level.append(node.val)\n",
    "            if node.left:\n",
    "                queue.append(node.left)\n",
    "            if node.right:\n",
    "                queue.append(node.right)\n",
    "        res.append(level)\n",
    "    return res\n",
    "\n",
    "# test for levelOrder\n",
    "root = TreeNode(3)\n",
    "node9 = TreeNode(9) \n",
    "node20 = TreeNode(20)\n",
    "node15 = TreeNode(15)\n",
    "node7 = TreeNode(7)\n",
    "    \n",
    "root.left = node9   \n",
    "root.right = node20"
   ]
  },
  {
   "cell_type": "code",
   "execution_count": 2,
   "metadata": {
    "ExecuteTime": {
     "end_time": "2024-09-13T08:14:46.812345Z",
     "start_time": "2024-09-13T08:14:46.801220Z"
    }
   },
   "outputs": [],
   "source": [
    "# 判断数字是不是对称的\n",
    "\n",
    "def isPalindrome(x):\n",
    "    if x < 0:\n",
    "        return False\n",
    "    x = str(x)\n",
    "    left, right = 0, len(x) - 1\n",
    "    while left < right:\n",
    "        if x[left] != x[right]:\n",
    "            return False\n",
    "        left += 1\n",
    "        right -= 1\n",
    "    return True\n",
    "\n",
    "# test for isPalindrome"
   ]
  },
  {
   "cell_type": "code",
   "execution_count": 14,
   "metadata": {
    "ExecuteTime": {
     "end_time": "2024-09-16T23:40:25.449178Z",
     "start_time": "2024-09-16T23:40:25.447366Z"
    }
   },
   "outputs": [
    {
     "name": "stdout",
     "output_type": "stream",
     "text": [
      "<__main__.TreeNode object at 0x102b2f6d0>\n"
     ]
    }
   ],
   "source": [
    "class TreeNode:\n",
    "    def __init__(self, x):\n",
    "        self.val = x\n",
    "        self.left = None\n",
    "        self.right = None\n",
    "        \n",
    "print(TreeNode(1))"
   ]
  },
  {
   "cell_type": "code",
   "execution_count": 28,
   "metadata": {
    "ExecuteTime": {
     "end_time": "2024-09-17T00:07:40.383266Z",
     "start_time": "2024-09-17T00:07:40.379534Z"
    }
   },
   "outputs": [
    {
     "data": {
      "text/plain": [
       "[4, 2, 5, 1, 3]"
      ]
     },
     "execution_count": 28,
     "metadata": {},
     "output_type": "execute_result"
    }
   ],
   "source": [
    "# build a binary tree\n",
    "def build_tree():\n",
    "    root = TreeNode(1)\n",
    "    node2 = TreeNode(2)\n",
    "    node3 = TreeNode(3)\n",
    "    node4 = TreeNode(4)\n",
    "    node5 = TreeNode(5)\n",
    "    root.left = node2\n",
    "    root.right = node3\n",
    "    node2.left = node4\n",
    "    node2.right = node5\n",
    "    return root\n",
    "\n",
    "# create a binary tree\n",
    "root = build_tree()\n",
    "\n",
    "def inorder_traversal(root):\n",
    "    if not root:\n",
    "        return []\n",
    "    \n",
    "    return inorder_traversal(root.left) + [root.val] + inorder_traversal(root.right)\n",
    "\n",
    "inorder_traversal(root) # [4, 2, 5, 1, 3]"
   ]
  },
  {
   "cell_type": "code",
   "execution_count": 29,
   "metadata": {
    "ExecuteTime": {
     "end_time": "2024-09-17T00:07:40.874191Z",
     "start_time": "2024-09-17T00:07:40.871829Z"
    }
   },
   "outputs": [
    {
     "data": {
      "text/plain": [
       "[1, 2, 4, 5, 3]"
      ]
     },
     "execution_count": 29,
     "metadata": {},
     "output_type": "execute_result"
    }
   ],
   "source": [
    "def preorder_traversal(root):\n",
    "    if not root:\n",
    "        return []\n",
    "    \n",
    "    node, value = root, root.val\n",
    "    out =  [value] + preorder_traversal(node.left) + preorder_traversal(node.right)\n",
    "    return out\n",
    "preorder_traversal(root)"
   ]
  },
  {
   "cell_type": "code",
   "execution_count": 30,
   "metadata": {
    "ExecuteTime": {
     "end_time": "2024-09-17T00:07:41.874990Z",
     "start_time": "2024-09-17T00:07:41.869671Z"
    }
   },
   "outputs": [
    {
     "data": {
      "text/plain": [
       "[[1], [2, 3], [4, 5]]"
      ]
     },
     "execution_count": 30,
     "metadata": {},
     "output_type": "execute_result"
    }
   ],
   "source": [
    "def level_traversal(root):\n",
    "    if not root:\n",
    "        return []\n",
    "    \n",
    "    node, value = root, root.val\n",
    "    \n",
    "    left_out = level_traversal(node.left)\n",
    "    right_out = level_traversal(node.right)\n",
    "    \n",
    "    m, n  = len(left_out), len(right_out)\n",
    "    tmp = [[] for i in range(max(m, n))]\n",
    "    for i in range(max(m, n)):\n",
    "        x = left_out[i] if i < m else []\n",
    "        y = right_out[i] if i < n else []\n",
    "        tmp[i] = x + y\n",
    "    \n",
    "    return  [[value]] + tmp\n",
    "\n",
    "level_traversal(root)"
   ]
  },
  {
   "cell_type": "code",
   "execution_count": 31,
   "metadata": {
    "ExecuteTime": {
     "end_time": "2024-09-17T00:07:43.394287Z",
     "start_time": "2024-09-17T00:07:43.391248Z"
    }
   },
   "outputs": [
    {
     "data": {
      "text/plain": [
       "[[1], [2, 3], [4, 5]]"
      ]
     },
     "execution_count": 31,
     "metadata": {},
     "output_type": "execute_result"
    }
   ],
   "source": [
    "levelOrder(root)"
   ]
  },
  {
   "cell_type": "code",
   "execution_count": 3,
   "metadata": {},
   "outputs": [
    {
     "name": "stdout",
     "output_type": "stream",
     "text": [
      "answer [[0], [1, 2], [3, 4]]\n"
     ]
    }
   ],
   "source": [
    "class TreeNode:\n",
    "    def __init__(self) -> None:\n",
    "        self.val = None\n",
    "        self.left = None\n",
    "        self.right = None\n",
    "\n",
    "\n",
    "def createBinaryTree():\n",
    "    nodes = [TreeNode() for i in range(5)]\n",
    "    for i in range(5):\n",
    "        nodes[i].val = i\n",
    "\n",
    "    nodes[0].left = nodes[1]\n",
    "    nodes[0].right = nodes[2]\n",
    "    nodes[1].left = nodes[3]\n",
    "    nodes[1].right = nodes[4]\n",
    "\n",
    "    return nodes[0]\n",
    "\n",
    "\n",
    "root = createBinaryTree()\n",
    "\n",
    "\n",
    "def traverse(root):\n",
    "    tmp = root\n",
    "    out = []\n",
    "\n",
    "    if not tmp:\n",
    "        return out\n",
    "\n",
    "    out = traverse(tmp.left) + [tmp.val] + traverse(tmp.right)\n",
    "\n",
    "    return out\n",
    "\n",
    "\n",
    "# print(traverse(root)) #  中序遍历\n",
    "# 层次遍历 levelOrder\n",
    "def levelTraverse(root):\n",
    "    res = []\n",
    "    if not root:\n",
    "        return res\n",
    "    \n",
    "    curr_level_nodes = [root]\n",
    "\n",
    "    while curr_level_nodes:\n",
    "\n",
    "        curr_level_vals = []\n",
    "        next_level_nodes = []\n",
    "\n",
    "        for node in curr_level_nodes:\n",
    "            curr_level_vals.append(node.val)\n",
    "\n",
    "            if node.left:\n",
    "                next_level_nodes.append(node.left)\n",
    "\n",
    "            if node.right:\n",
    "                next_level_nodes.append(node.right)\n",
    "        \n",
    "        res.append(curr_level_vals)\n",
    "\n",
    "        curr_level_nodes = next_level_nodes\n",
    "\n",
    "    return res\n",
    "\n",
    "\n",
    "\n",
    "print('answer', levelTraverse(root))\n",
    "\n",
    "    \n",
    "\n",
    "    \n",
    "\n"
   ]
  },
  {
   "cell_type": "markdown",
   "metadata": {},
   "source": [
    "## 京东面试\n",
    "\n"
   ]
  },
  {
   "cell_type": "code",
   "execution_count": null,
   "metadata": {},
   "outputs": [],
   "source": [
    "# 一个 o(n) 的算法，找到数组中的第k大元素\n",
    "\n"
   ]
  },
  {
   "cell_type": "code",
   "execution_count": 4,
   "metadata": {},
   "outputs": [
    {
     "data": {
      "text/plain": [
       "1"
      ]
     },
     "execution_count": 4,
     "metadata": {},
     "output_type": "execute_result"
    }
   ],
   "source": [
    "1 << (ord('a') - ord('a'))"
   ]
  },
  {
   "cell_type": "code",
   "execution_count": 5,
   "metadata": {},
   "outputs": [
    {
     "data": {
      "text/plain": [
       "2"
      ]
     },
     "execution_count": 5,
     "metadata": {},
     "output_type": "execute_result"
    }
   ],
   "source": [
    "1 << (ord('b') - ord('a'))"
   ]
  },
  {
   "cell_type": "code",
   "execution_count": 12,
   "metadata": {},
   "outputs": [
    {
     "name": "stdout",
     "output_type": "stream",
     "text": [
      "dict_values([['eat', 'tea', 'ate'], ['tan', 'nat'], ['bat']])\n"
     ]
    }
   ],
   "source": [
    "import collections\n",
    "from typing import List\n",
    "\n",
    "class Solution:\n",
    "    def groupAnagrams(self, strs: List[str]) -> List[List[str]]:\n",
    "        ans = collections.defaultdict(list)\n",
    "        for s in strs:\n",
    "            ans[tuple(sorted(s))].append(s)\n",
    "\n",
    "        return ans.values()\n",
    "    \n",
    "\n",
    "# test code\n",
    "strs = [\"eat\", \"tea\", \"tan\", \"ate\", \"nat\", \"bat\"]\n",
    "solution = Solution()\n",
    "print(solution.groupAnagrams(strs))\n",
    "        "
   ]
  },
  {
   "cell_type": "code",
   "execution_count": 15,
   "metadata": {},
   "outputs": [
    {
     "name": "stdout",
     "output_type": "stream",
     "text": [
      "dict_values([['eat', 'tea', 'ate'], ['tan', 'nat'], ['bat']])\n"
     ]
    }
   ],
   "source": [
    "import collections\n",
    "from typing import List\n",
    "\n",
    "class Solution:\n",
    "    def groupAnagrams(self, strs: List[str]) -> List[List[str]]:\n",
    "        ans = collections.defaultdict(list)\n",
    "        for s in strs:\n",
    "            ans[tuple(sorted(s))].append(s)\n",
    "        \n",
    "\n",
    "        return list(ans.values())\n",
    "        \n",
    "# test code\n",
    "strs = [\"eat\", \"tea\", \"tan\", \"ate\", \"nat\", \"bat\"]\n",
    "solution = Solution()\n",
    "print(solution.groupAnagrams(strs))"
   ]
  },
  {
   "cell_type": "code",
   "execution_count": 13,
   "metadata": {},
   "outputs": [
    {
     "data": {
      "text/plain": [
       "['a', 'e', 't']"
      ]
     },
     "execution_count": 13,
     "metadata": {},
     "output_type": "execute_result"
    }
   ],
   "source": [
    "sorted('eat')"
   ]
  },
  {
   "cell_type": "markdown",
   "metadata": {},
   "source": []
  }
 ],
 "metadata": {
  "kernelspec": {
   "display_name": "Python 3",
   "language": "python",
   "name": "python3"
  },
  "language_info": {
   "codemirror_mode": {
    "name": "ipython",
    "version": 3
   },
   "file_extension": ".py",
   "mimetype": "text/x-python",
   "name": "python",
   "nbconvert_exporter": "python",
   "pygments_lexer": "ipython3",
   "version": "3.8.10"
  }
 },
 "nbformat": 4,
 "nbformat_minor": 2
}
